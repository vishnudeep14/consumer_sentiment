{
  "nbformat": 4,
  "nbformat_minor": 0,
  "metadata": {
    "colab": {
      "name": "ZS.ipynb",
      "version": "0.3.2",
      "provenance": [],
      "collapsed_sections": []
    },
    "kernelspec": {
      "name": "python3",
      "display_name": "Python 3"
    },
    "accelerator": "GPU"
  },
  "cells": [
    {
      "cell_type": "code",
      "metadata": {
        "id": "EkG3DyRyoMqR",
        "colab_type": "code",
        "colab": {}
      },
      "source": [
        "import pandas as pd\n",
        "import numpy as np\n",
        "from scipy.sparse import hstack, csr_matrix\n",
        "from textblob import TextBlob\n",
        "import nltk\n",
        "import re\n",
        "import datetime\n",
        "import matplotlib.pyplot as plt\n",
        "from nltk.corpus import stopwords \n",
        "from nltk.tokenize import word_tokenize\n",
        "from nltk.stem import WordNetLemmatizer, PorterStemmer\n",
        "from sklearn.feature_extraction.text import CountVectorizer, TfidfVectorizer\n",
        "from sklearn.preprocessing import LabelEncoder, StandardScaler\n",
        "from sklearn.model_selection import train_test_split\n",
        "from sklearn.decomposition import TruncatedSVD\n",
        "from sklearn.svm import LinearSVR\n",
        "import lightgbm as lgb\n",
        "from sklearn.ensemble import RandomForestRegressor\n",
        "from sklearn.metrics import mean_absolute_error\n",
        "from wordcloud import WordCloud, STOPWORDS \n",
        "\n",
        "%matplotlib inline"
      ],
      "execution_count": 0,
      "outputs": []
    },
    {
      "cell_type": "markdown",
      "metadata": {
        "id": "7LP3vxPZH261",
        "colab_type": "text"
      },
      "source": [
        "Read data files"
      ]
    },
    {
      "cell_type": "code",
      "metadata": {
        "id": "2yKewT77pEmf",
        "colab_type": "code",
        "colab": {}
      },
      "source": [
        "train = pd.read_csv('/content/drive/My Drive/Colab Notebooks/ZS/train_file.csv')\n",
        "test = pd.read_csv('/content/drive/My Drive/Colab Notebooks/ZS/test_file.csv')\n",
        "submission = pd.read_csv('/content/drive/My Drive/Colab Notebooks/ZS/sample_submission.csv')\n",
        "test_id = test['IDLink']"
      ],
      "execution_count": 0,
      "outputs": []
    },
    {
      "cell_type": "markdown",
      "metadata": {
        "id": "9E_T1MncIEHb",
        "colab_type": "text"
      },
      "source": [
        "Explore data"
      ]
    },
    {
      "cell_type": "code",
      "metadata": {
        "id": "SPx6wg5rpdhQ",
        "colab_type": "code",
        "outputId": "2cf28036-944e-43d9-ce3e-e9749039570b",
        "colab": {
          "base_uri": "https://localhost:8080/",
          "height": 391
        }
      },
      "source": [
        "train.head()"
      ],
      "execution_count": 4,
      "outputs": [
        {
          "output_type": "execute_result",
          "data": {
            "text/html": [
              "<div>\n",
              "<style scoped>\n",
              "    .dataframe tbody tr th:only-of-type {\n",
              "        vertical-align: middle;\n",
              "    }\n",
              "\n",
              "    .dataframe tbody tr th {\n",
              "        vertical-align: top;\n",
              "    }\n",
              "\n",
              "    .dataframe thead th {\n",
              "        text-align: right;\n",
              "    }\n",
              "</style>\n",
              "<table border=\"1\" class=\"dataframe\">\n",
              "  <thead>\n",
              "    <tr style=\"text-align: right;\">\n",
              "      <th></th>\n",
              "      <th>IDLink</th>\n",
              "      <th>Title</th>\n",
              "      <th>Headline</th>\n",
              "      <th>Source</th>\n",
              "      <th>Topic</th>\n",
              "      <th>PublishDate</th>\n",
              "      <th>Facebook</th>\n",
              "      <th>GooglePlus</th>\n",
              "      <th>LinkedIn</th>\n",
              "      <th>SentimentTitle</th>\n",
              "      <th>SentimentHeadline</th>\n",
              "    </tr>\n",
              "  </thead>\n",
              "  <tbody>\n",
              "    <tr>\n",
              "      <th>0</th>\n",
              "      <td>Tr3CMgRv1N</td>\n",
              "      <td>Obama Lays Wreath at Arlington National Cemetery</td>\n",
              "      <td>Obama Lays Wreath at Arlington National Cemete...</td>\n",
              "      <td>USA TODAY</td>\n",
              "      <td>obama</td>\n",
              "      <td>2002-04-02 00:00:00</td>\n",
              "      <td>-1</td>\n",
              "      <td>-1</td>\n",
              "      <td>-1</td>\n",
              "      <td>0.000000</td>\n",
              "      <td>-0.053300</td>\n",
              "    </tr>\n",
              "    <tr>\n",
              "      <th>1</th>\n",
              "      <td>Wc81vGp8qZ</td>\n",
              "      <td>A Look at the Health of the Chinese Economy</td>\n",
              "      <td>Tim Haywood, investment director business-unit...</td>\n",
              "      <td>Bloomberg</td>\n",
              "      <td>economy</td>\n",
              "      <td>2008-09-20 00:00:00</td>\n",
              "      <td>-1</td>\n",
              "      <td>-1</td>\n",
              "      <td>-1</td>\n",
              "      <td>0.208333</td>\n",
              "      <td>-0.156386</td>\n",
              "    </tr>\n",
              "    <tr>\n",
              "      <th>2</th>\n",
              "      <td>zNGH03CrZH</td>\n",
              "      <td>Nouriel Roubini: Global Economy Not Back to 2008</td>\n",
              "      <td>Nouriel Roubini, NYU professor and chairman at...</td>\n",
              "      <td>Bloomberg</td>\n",
              "      <td>economy</td>\n",
              "      <td>2012-01-28 00:00:00</td>\n",
              "      <td>-1</td>\n",
              "      <td>-1</td>\n",
              "      <td>-1</td>\n",
              "      <td>-0.425210</td>\n",
              "      <td>0.139754</td>\n",
              "    </tr>\n",
              "    <tr>\n",
              "      <th>3</th>\n",
              "      <td>3sM1H0W8ts</td>\n",
              "      <td>Finland GDP Expands In Q4</td>\n",
              "      <td>Finland's economy expanded marginally in the t...</td>\n",
              "      <td>RTT News</td>\n",
              "      <td>economy</td>\n",
              "      <td>2015-03-01 00:06:00</td>\n",
              "      <td>-1</td>\n",
              "      <td>-1</td>\n",
              "      <td>-1</td>\n",
              "      <td>0.000000</td>\n",
              "      <td>0.026064</td>\n",
              "    </tr>\n",
              "    <tr>\n",
              "      <th>4</th>\n",
              "      <td>wUbnxgvqaZ</td>\n",
              "      <td>Tourism, govt spending buoys Thai economy in J...</td>\n",
              "      <td>Tourism and public spending continued to boost...</td>\n",
              "      <td>The Nation - Thailand&amp;#39;s English news</td>\n",
              "      <td>economy</td>\n",
              "      <td>2015-03-01 00:11:00</td>\n",
              "      <td>-1</td>\n",
              "      <td>-1</td>\n",
              "      <td>-1</td>\n",
              "      <td>0.000000</td>\n",
              "      <td>0.141084</td>\n",
              "    </tr>\n",
              "  </tbody>\n",
              "</table>\n",
              "</div>"
            ],
            "text/plain": [
              "       IDLink  ... SentimentHeadline\n",
              "0  Tr3CMgRv1N  ...         -0.053300\n",
              "1  Wc81vGp8qZ  ...         -0.156386\n",
              "2  zNGH03CrZH  ...          0.139754\n",
              "3  3sM1H0W8ts  ...          0.026064\n",
              "4  wUbnxgvqaZ  ...          0.141084\n",
              "\n",
              "[5 rows x 11 columns]"
            ]
          },
          "metadata": {
            "tags": []
          },
          "execution_count": 4
        }
      ]
    },
    {
      "cell_type": "code",
      "metadata": {
        "id": "v5g0ezVHJmrh",
        "colab_type": "code",
        "colab": {
          "base_uri": "https://localhost:8080/",
          "height": 289
        },
        "outputId": "cc3bc329-63c0-481f-ddfb-371c6363f605"
      },
      "source": [
        "train.info()"
      ],
      "execution_count": 5,
      "outputs": [
        {
          "output_type": "stream",
          "text": [
            "<class 'pandas.core.frame.DataFrame'>\n",
            "RangeIndex: 55932 entries, 0 to 55931\n",
            "Data columns (total 11 columns):\n",
            "IDLink               55932 non-null object\n",
            "Title                55932 non-null object\n",
            "Headline             55932 non-null object\n",
            "Source               55757 non-null object\n",
            "Topic                55932 non-null object\n",
            "PublishDate          55932 non-null object\n",
            "Facebook             55932 non-null int64\n",
            "GooglePlus           55932 non-null int64\n",
            "LinkedIn             55932 non-null int64\n",
            "SentimentTitle       55932 non-null float64\n",
            "SentimentHeadline    55932 non-null float64\n",
            "dtypes: float64(2), int64(3), object(6)\n",
            "memory usage: 4.7+ MB\n"
          ],
          "name": "stdout"
        }
      ]
    },
    {
      "cell_type": "code",
      "metadata": {
        "id": "El0FyBQyJqk9",
        "colab_type": "code",
        "colab": {
          "base_uri": "https://localhost:8080/",
          "height": 297
        },
        "outputId": "2c424591-9889-482c-bdd9-2af1893257cd"
      },
      "source": [
        "train.describe()"
      ],
      "execution_count": 6,
      "outputs": [
        {
          "output_type": "execute_result",
          "data": {
            "text/html": [
              "<div>\n",
              "<style scoped>\n",
              "    .dataframe tbody tr th:only-of-type {\n",
              "        vertical-align: middle;\n",
              "    }\n",
              "\n",
              "    .dataframe tbody tr th {\n",
              "        vertical-align: top;\n",
              "    }\n",
              "\n",
              "    .dataframe thead th {\n",
              "        text-align: right;\n",
              "    }\n",
              "</style>\n",
              "<table border=\"1\" class=\"dataframe\">\n",
              "  <thead>\n",
              "    <tr style=\"text-align: right;\">\n",
              "      <th></th>\n",
              "      <th>Facebook</th>\n",
              "      <th>GooglePlus</th>\n",
              "      <th>LinkedIn</th>\n",
              "      <th>SentimentTitle</th>\n",
              "      <th>SentimentHeadline</th>\n",
              "    </tr>\n",
              "  </thead>\n",
              "  <tbody>\n",
              "    <tr>\n",
              "      <th>count</th>\n",
              "      <td>55932.000000</td>\n",
              "      <td>55932.000000</td>\n",
              "      <td>55932.000000</td>\n",
              "      <td>55932.000000</td>\n",
              "      <td>55932.000000</td>\n",
              "    </tr>\n",
              "    <tr>\n",
              "      <th>mean</th>\n",
              "      <td>132.050329</td>\n",
              "      <td>4.551616</td>\n",
              "      <td>14.300132</td>\n",
              "      <td>-0.006318</td>\n",
              "      <td>-0.029577</td>\n",
              "    </tr>\n",
              "    <tr>\n",
              "      <th>std</th>\n",
              "      <td>722.931314</td>\n",
              "      <td>21.137177</td>\n",
              "      <td>76.651420</td>\n",
              "      <td>0.137569</td>\n",
              "      <td>0.143038</td>\n",
              "    </tr>\n",
              "    <tr>\n",
              "      <th>min</th>\n",
              "      <td>-1.000000</td>\n",
              "      <td>-1.000000</td>\n",
              "      <td>-1.000000</td>\n",
              "      <td>-0.838525</td>\n",
              "      <td>-0.755355</td>\n",
              "    </tr>\n",
              "    <tr>\n",
              "      <th>25%</th>\n",
              "      <td>0.000000</td>\n",
              "      <td>0.000000</td>\n",
              "      <td>0.000000</td>\n",
              "      <td>-0.079057</td>\n",
              "      <td>-0.116927</td>\n",
              "    </tr>\n",
              "    <tr>\n",
              "      <th>50%</th>\n",
              "      <td>6.000000</td>\n",
              "      <td>0.000000</td>\n",
              "      <td>0.000000</td>\n",
              "      <td>0.000000</td>\n",
              "      <td>-0.027277</td>\n",
              "    </tr>\n",
              "    <tr>\n",
              "      <th>75%</th>\n",
              "      <td>37.000000</td>\n",
              "      <td>2.000000</td>\n",
              "      <td>4.000000</td>\n",
              "      <td>0.063969</td>\n",
              "      <td>0.057354</td>\n",
              "    </tr>\n",
              "    <tr>\n",
              "      <th>max</th>\n",
              "      <td>49211.000000</td>\n",
              "      <td>1267.000000</td>\n",
              "      <td>3716.000000</td>\n",
              "      <td>0.962354</td>\n",
              "      <td>0.964646</td>\n",
              "    </tr>\n",
              "  </tbody>\n",
              "</table>\n",
              "</div>"
            ],
            "text/plain": [
              "           Facebook    GooglePlus  ...  SentimentTitle  SentimentHeadline\n",
              "count  55932.000000  55932.000000  ...    55932.000000       55932.000000\n",
              "mean     132.050329      4.551616  ...       -0.006318          -0.029577\n",
              "std      722.931314     21.137177  ...        0.137569           0.143038\n",
              "min       -1.000000     -1.000000  ...       -0.838525          -0.755355\n",
              "25%        0.000000      0.000000  ...       -0.079057          -0.116927\n",
              "50%        6.000000      0.000000  ...        0.000000          -0.027277\n",
              "75%       37.000000      2.000000  ...        0.063969           0.057354\n",
              "max    49211.000000   1267.000000  ...        0.962354           0.964646\n",
              "\n",
              "[8 rows x 5 columns]"
            ]
          },
          "metadata": {
            "tags": []
          },
          "execution_count": 6
        }
      ]
    },
    {
      "cell_type": "markdown",
      "metadata": {
        "id": "BIH3SHb1HoHu",
        "colab_type": "text"
      },
      "source": [
        "Check for missing values"
      ]
    },
    {
      "cell_type": "code",
      "metadata": {
        "id": "3lG2TH0uG9n_",
        "colab_type": "code",
        "colab": {
          "base_uri": "https://localhost:8080/",
          "height": 221
        },
        "outputId": "908a2bad-e667-45fb-8699-917229d8c8ab"
      },
      "source": [
        "train.isnull().sum()"
      ],
      "execution_count": 7,
      "outputs": [
        {
          "output_type": "execute_result",
          "data": {
            "text/plain": [
              "IDLink                 0\n",
              "Title                  0\n",
              "Headline               0\n",
              "Source               175\n",
              "Topic                  0\n",
              "PublishDate            0\n",
              "Facebook               0\n",
              "GooglePlus             0\n",
              "LinkedIn               0\n",
              "SentimentTitle         0\n",
              "SentimentHeadline      0\n",
              "dtype: int64"
            ]
          },
          "metadata": {
            "tags": []
          },
          "execution_count": 7
        }
      ]
    },
    {
      "cell_type": "code",
      "metadata": {
        "id": "jhorvLs0HrLy",
        "colab_type": "code",
        "colab": {
          "base_uri": "https://localhost:8080/",
          "height": 187
        },
        "outputId": "1472534d-16c8-4a31-f5c8-c4775eb20e88"
      },
      "source": [
        "test.isnull().sum()"
      ],
      "execution_count": 8,
      "outputs": [
        {
          "output_type": "execute_result",
          "data": {
            "text/plain": [
              "IDLink           0\n",
              "Title            0\n",
              "Headline         0\n",
              "Source         101\n",
              "Topic            0\n",
              "PublishDate      0\n",
              "Facebook         0\n",
              "GooglePlus       0\n",
              "LinkedIn         0\n",
              "dtype: int64"
            ]
          },
          "metadata": {
            "tags": []
          },
          "execution_count": 8
        }
      ]
    },
    {
      "cell_type": "code",
      "metadata": {
        "colab_type": "code",
        "outputId": "2bca28e1-1e7d-4c43-d567-e5d7134b2a70",
        "id": "yFKwEroWXhIO",
        "colab": {
          "base_uri": "https://localhost:8080/",
          "height": 119
        }
      },
      "source": [
        "train['Source'].value_counts()[:5]"
      ],
      "execution_count": 9,
      "outputs": [
        {
          "output_type": "execute_result",
          "data": {
            "text/plain": [
              "Bloomberg         992\n",
              "Reuters           763\n",
              "ABC News          645\n",
              "New York Times    573\n",
              "The Guardian      551\n",
              "Name: Source, dtype: int64"
            ]
          },
          "metadata": {
            "tags": []
          },
          "execution_count": 9
        }
      ]
    },
    {
      "cell_type": "code",
      "metadata": {
        "id": "QkGs0XdQYiNm",
        "colab_type": "code",
        "colab": {}
      },
      "source": [
        "train['Source'] = train['Source'].fillna('Bloomberg')\n",
        "test['Source'] = test['Source'].fillna('Bloomberg')"
      ],
      "execution_count": 0,
      "outputs": []
    },
    {
      "cell_type": "markdown",
      "metadata": {
        "id": "a0aY5MThIbci",
        "colab_type": "text"
      },
      "source": [
        "Text columns processing and cleaning"
      ]
    },
    {
      "cell_type": "code",
      "metadata": {
        "id": "N0rMLhutqzT6",
        "colab_type": "code",
        "outputId": "945f9698-40b0-456e-afbd-4505aec2a1de",
        "colab": {
          "base_uri": "https://localhost:8080/",
          "height": 119
        }
      },
      "source": [
        "nltk.download('stopwords')\n",
        "nltk.download('punkt')\n",
        "nltk.download('wordnet')\n",
        "\n",
        "stop = set(stopwords.words('english'))\n",
        "\n",
        "def clean(text):\n",
        "  text_token = word_tokenize(text)\n",
        "  filtered_text = ' '.join([w.lower() for w in text_token if w.lower() not in stop and len(w) > 2])\n",
        "  filtered_text = filtered_text.replace(r\"[^a-zA-Z]+\", '')\n",
        "  text_only = re.sub(r'\\b\\d+\\b', '', filtered_text)\n",
        "  clean_text = text_only.replace(',', '').replace('.', '').replace(':', '')\n",
        "  return clean_text"
      ],
      "execution_count": 11,
      "outputs": [
        {
          "output_type": "stream",
          "text": [
            "[nltk_data] Downloading package stopwords to /root/nltk_data...\n",
            "[nltk_data]   Unzipping corpora/stopwords.zip.\n",
            "[nltk_data] Downloading package punkt to /root/nltk_data...\n",
            "[nltk_data]   Unzipping tokenizers/punkt.zip.\n",
            "[nltk_data] Downloading package wordnet to /root/nltk_data...\n",
            "[nltk_data]   Unzipping corpora/wordnet.zip.\n"
          ],
          "name": "stdout"
        }
      ]
    },
    {
      "cell_type": "code",
      "metadata": {
        "id": "Yv0gu0iAYmsq",
        "colab_type": "code",
        "colab": {}
      },
      "source": [
        "train['Text_Title'] = train['Title'] + ' ' + train['Source'] + ' ' + train['Topic']\n",
        "test['Text_Title'] = test['Title'] + ' ' + test['Source'] + ' ' + test['Topic']\n",
        "\n",
        "train['Text_Headline'] = train['Headline'] + ' ' + train['Source'] + ' ' + train['Topic']\n",
        "test['Text_Headline'] = test['Headline'] + ' ' + test['Source'] + ' ' + test['Topic']"
      ],
      "execution_count": 0,
      "outputs": []
    },
    {
      "cell_type": "code",
      "metadata": {
        "id": "t0InOm6jads0",
        "colab_type": "code",
        "colab": {
          "base_uri": "https://localhost:8080/",
          "height": 34
        },
        "outputId": "d0ff5f93-c3fe-418a-e87f-afe5f9843d33"
      },
      "source": [
        "train['Text_Title'][4]"
      ],
      "execution_count": 13,
      "outputs": [
        {
          "output_type": "execute_result",
          "data": {
            "text/plain": [
              "'Tourism, govt spending buoys Thai economy in January The Nation - Thailand&#39;s English news economy'"
            ]
          },
          "metadata": {
            "tags": []
          },
          "execution_count": 13
        }
      ]
    },
    {
      "cell_type": "code",
      "metadata": {
        "id": "5G7H85q6t_ND",
        "colab_type": "code",
        "colab": {}
      },
      "source": [
        "train['Text_Title'] = [clean(x) for x in train['Text_Title']]\n",
        "test['Text_Title'] = [clean(x) for x in test['Text_Title']]\n",
        "\n",
        "train['Text_Headline'] = [clean(x) for x in train['Text_Headline']]\n",
        "test['Text_Headline'] = [clean(x) for x in test['Text_Headline']]"
      ],
      "execution_count": 0,
      "outputs": []
    },
    {
      "cell_type": "code",
      "metadata": {
        "id": "6XcNTv0rCswW",
        "colab_type": "code",
        "colab": {
          "base_uri": "https://localhost:8080/",
          "height": 34
        },
        "outputId": "29189e27-3b60-44d4-c089-d2c76822844b"
      },
      "source": [
        "train['Text_Title'][4]"
      ],
      "execution_count": 15,
      "outputs": [
        {
          "output_type": "execute_result",
          "data": {
            "text/plain": [
              "'tourism govt spending buoys thai economy january nation thailand english news economy'"
            ]
          },
          "metadata": {
            "tags": []
          },
          "execution_count": 15
        }
      ]
    },
    {
      "cell_type": "code",
      "metadata": {
        "id": "7l6LxTKKY3mX",
        "colab_type": "code",
        "colab": {
          "base_uri": "https://localhost:8080/",
          "height": 219
        },
        "outputId": "b2124f86-3540-42ef-9d2f-c50037c9717c"
      },
      "source": [
        "text = \"\"\n",
        "for ind, row in train.iterrows():\n",
        "    text += row[\"Text_Title\"] + \" \"\n",
        "text = text.strip()\n",
        "\n",
        "wordcloud = WordCloud(background_color='white', width=600, height=300, max_font_size=100, max_words=40).generate(text)\n",
        "wordcloud.recolor(random_state=ind*312)\n",
        "plt.imshow(wordcloud)\n",
        "plt.axis(\"off\")\n",
        "plt.show()"
      ],
      "execution_count": 16,
      "outputs": [
        {
          "output_type": "display_data",
          "data": {
            "image/png": "[encoded data removed]",
            "text/plain": [
              "<Figure size 432x288 with 1 Axes>"
            ]
          },
          "metadata": {
            "tags": []
          }
        }
      ]
    },
    {
      "cell_type": "code",
      "metadata": {
        "id": "jwktHNV5Zd82",
        "colab_type": "code",
        "colab": {
          "base_uri": "https://localhost:8080/",
          "height": 219
        },
        "outputId": "cdf920bc-fa3e-44f0-9686-a26d4edbb1ac"
      },
      "source": [
        "text = \"\"\n",
        "for ind, row in train.iterrows():\n",
        "    text += row[\"Text_Headline\"] + \" \"\n",
        "text = text.strip()\n",
        "\n",
        "wordcloud = WordCloud(background_color='white', width=600, height=300, max_font_size=100, max_words=40).generate(text)\n",
        "wordcloud.recolor(random_state=ind*312)\n",
        "plt.imshow(wordcloud)\n",
        "plt.axis(\"off\")\n",
        "plt.show()"
      ],
      "execution_count": 17,
      "outputs": [
        {
          "output_type": "display_data",
          "data": {
            "image/png": "[encoded data removed]",
            "text/plain": [
              "<Figure size 432x288 with 1 Axes>"
            ]
          },
          "metadata": {
            "tags": []
          }
        }
      ]
    },
    {
      "cell_type": "markdown",
      "metadata": {
        "id": "fyA6ZBUDItIt",
        "colab_type": "text"
      },
      "source": [
        "Feature extraction from text data"
      ]
    },
    {
      "cell_type": "code",
      "metadata": {
        "id": "R2c_QE3z_ZpU",
        "colab_type": "code",
        "colab": {}
      },
      "source": [
        "vectorizer = TfidfVectorizer(use_idf=True)\n",
        "\n",
        "train_v_Title = vectorizer.fit_transform(train['Text_Title'])\n",
        "test_v_Title = vectorizer.transform(test['Text_Title'])\n",
        "\n",
        "vectorizer_ = TfidfVectorizer()\n",
        "\n",
        "train_v_Headline = vectorizer_.fit_transform(train['Text_Headline'])\n",
        "test_v_Headline = vectorizer_.transform(test['Text_Headline'])"
      ],
      "execution_count": 0,
      "outputs": []
    },
    {
      "cell_type": "markdown",
      "metadata": {
        "id": "PKTDHxeKntxb",
        "colab_type": "text"
      },
      "source": [
        "SVD to reduce dimensions"
      ]
    },
    {
      "cell_type": "code",
      "metadata": {
        "id": "HYe1JZOfnp9s",
        "colab_type": "code",
        "colab": {}
      },
      "source": [
        "# svd = TruncatedSVD(n_components=20)\n",
        "\n",
        "# train_v_Title = svd.fit_transform(train_v_Title)\n",
        "# test_v_Title = svd.transform(test_v_Title)\n",
        "\n",
        "# train_v_Headline = svd.fit_transform(train_v_Headline)\n",
        "# test_v_Headline = svd.transform(test_v_Headline)"
      ],
      "execution_count": 0,
      "outputs": []
    },
    {
      "cell_type": "markdown",
      "metadata": {
        "id": "JV8OdU-EbLYm",
        "colab_type": "text"
      },
      "source": [
        "Calculate sentiment of text data"
      ]
    },
    {
      "cell_type": "code",
      "metadata": {
        "id": "RRE66bmobHt6",
        "colab_type": "code",
        "colab": {}
      },
      "source": [
        "train['polarity_t'] = train['Title'].apply(lambda x: TextBlob(x).sentiment.polarity)\n",
        "test['polarity_t'] = test['Title'].apply(lambda x: TextBlob(x).sentiment.polarity)\n",
        "\n",
        "train['subjectivity_t'] = train['Title'].apply(lambda x: TextBlob(x).sentiment.subjectivity)\n",
        "test['subjectivity_t'] = test['Title'].apply(lambda x: TextBlob(x).sentiment.subjectivity)"
      ],
      "execution_count": 0,
      "outputs": []
    },
    {
      "cell_type": "code",
      "metadata": {
        "id": "8AbVMKrtbozG",
        "colab_type": "code",
        "colab": {}
      },
      "source": [
        "train['polarity_h'] = train['Headline'].apply(lambda x: TextBlob(x).sentiment.polarity)\n",
        "test['polarity_h'] = test['Headline'].apply(lambda x: TextBlob(x).sentiment.polarity)\n",
        "\n",
        "train['subjectivity_h'] = train['Headline'].apply(lambda x: TextBlob(x).sentiment.subjectivity)\n",
        "test['subjectivity_h'] = test['Headline'].apply(lambda x: TextBlob(x).sentiment.subjectivity)"
      ],
      "execution_count": 0,
      "outputs": []
    },
    {
      "cell_type": "markdown",
      "metadata": {
        "id": "6sx3xq7xbxQt",
        "colab_type": "text"
      },
      "source": [
        "Encode categorical columns"
      ]
    },
    {
      "cell_type": "code",
      "metadata": {
        "id": "Tw0G0avgbzig",
        "colab_type": "code",
        "colab": {}
      },
      "source": [
        "encoder = LabelEncoder()\n",
        "\n",
        "train['Topic'] = encoder.fit_transform(train['Topic'])\n",
        "test['Topic'] = encoder.transform(test['Topic'])\n",
        "\n",
        "total = train['Source'].to_list() + test['Source'].to_list()\n",
        "total = encoder.fit_transform(total)\n",
        "train['Source'] = encoder.transform(train['Source'])\n",
        "test['Source'] = encoder.transform(test['Source'])"
      ],
      "execution_count": 0,
      "outputs": []
    },
    {
      "cell_type": "markdown",
      "metadata": {
        "id": "ejUGLtC8cH19",
        "colab_type": "text"
      },
      "source": [
        "Meta Features"
      ]
    },
    {
      "cell_type": "code",
      "metadata": {
        "id": "ejrVA103oTCk",
        "colab_type": "code",
        "colab": {}
      },
      "source": [
        "# Get day-type(monday, tuesday) from datetime\n",
        "\n",
        "train_weekday = []\n",
        "test_weekday = []\n",
        "\n",
        "for i in train['PublishDate']:\n",
        "    train_weekday.append(datetime.datetime.strptime(i, \"%Y-%m-%d %H:%M:%S\").strftime(\"%A\"))\n",
        "    \n",
        "for i in test['PublishDate']:\n",
        "    test_weekday.append(datetime.datetime.strptime(i, \"%Y-%m-%d %H:%M:%S\").strftime(\"%A\"))\n",
        "\n",
        "train['weekday'] = train_weekday\n",
        "test['weekday'] = test_weekday\n",
        "\n",
        "\n",
        "# convert weekday to 0-6\n",
        "\n",
        "train['weekday'] = train['weekday'].map({'Monday': 0,\n",
        "                                        'Tuesday': 1,\n",
        "                                        'Wednesday': 2,\n",
        "                                        'Thursday': 3,\n",
        "                                        'Friday': 4,\n",
        "                                        'Saturday': 5,\n",
        "                                        'Sunday': 6})\n",
        "test['weekday'] = test['weekday'].map({'Monday': 0,\n",
        "                                        'Tuesday': 1,\n",
        "                                        'Wednesday': 2,\n",
        "                                        'Thursday': 3,\n",
        "                                        'Friday': 4,\n",
        "                                        'Saturday': 5,\n",
        "                                        'Sunday': 6})"
      ],
      "execution_count": 0,
      "outputs": []
    },
    {
      "cell_type": "code",
      "metadata": {
        "id": "fqdeCTDLmzWh",
        "colab_type": "code",
        "colab": {}
      },
      "source": [
        "# Hour from date\n",
        "\n",
        "train[\"hour\"] = train[\"PublishDate\"].apply(lambda x: x.split()[1].split(':')[0])\n",
        "test[\"hour\"] = test[\"PublishDate\"].apply(lambda x: x.split()[1].split(':')[0])"
      ],
      "execution_count": 0,
      "outputs": []
    },
    {
      "cell_type": "code",
      "metadata": {
        "id": "o0Zukg0unpzW",
        "colab_type": "code",
        "colab": {
          "base_uri": "https://localhost:8080/",
          "height": 300
        },
        "outputId": "bf0340dd-ff1c-46fa-8104-9c7690b247a6"
      },
      "source": [
        "# hour distribution of SentimentTitle\n",
        "\n",
        "plt.scatter(train['hour'], train['SentimentTitle'])\n",
        "plt.xlabel('hour')\n",
        "plt.ylabel('SentimentTitle')"
      ],
      "execution_count": 30,
      "outputs": [
        {
          "output_type": "execute_result",
          "data": {
            "text/plain": [
              "Text(0, 0.5, 'SentimentTitle')"
            ]
          },
          "metadata": {
            "tags": []
          },
          "execution_count": 30
        },
        {
          "output_type": "display_data",
          "data": {
            "image/png": "[encoded data removed]",
            "text/plain": [
              "<Figure size 432x288 with 1 Axes>"
            ]
          },
          "metadata": {
            "tags": []
          }
        }
      ]
    },
    {
      "cell_type": "code",
      "metadata": {
        "id": "M10vjgZQnqAn",
        "colab_type": "code",
        "colab": {
          "base_uri": "https://localhost:8080/",
          "height": 300
        },
        "outputId": "c95945a4-c49c-456b-89b2-3ec55a767cd5"
      },
      "source": [
        "# hour distribution of SentimentHeadline\n",
        "\n",
        "plt.scatter(train['hour'], train['SentimentHeadline'])\n",
        "plt.xlabel('hour')\n",
        "plt.ylabel('SentimentHeadline')"
      ],
      "execution_count": 31,
      "outputs": [
        {
          "output_type": "execute_result",
          "data": {
            "text/plain": [
              "Text(0, 0.5, 'SentimentHeadline')"
            ]
          },
          "metadata": {
            "tags": []
          },
          "execution_count": 31
        },
        {
          "output_type": "display_data",
          "data": {
            "image/png": "[encoded data removed]",
            "text/plain": [
              "<Figure size 432x288 with 1 Axes>"
            ]
          },
          "metadata": {
            "tags": []
          }
        }
      ]
    },
    {
      "cell_type": "code",
      "metadata": {
        "id": "1ybwDgiDne_F",
        "colab_type": "code",
        "colab": {
          "base_uri": "https://localhost:8080/",
          "height": 300
        },
        "outputId": "24be12c8-3d96-4f1a-f95f-7872046ebc4f"
      },
      "source": [
        "# weekday distribution of SentimentTitle\n",
        "\n",
        "plt.scatter(train['weekday'], train['SentimentTitle'])\n",
        "plt.xlabel('weekday')\n",
        "plt.ylabel('SentimentTitle')"
      ],
      "execution_count": 28,
      "outputs": [
        {
          "output_type": "execute_result",
          "data": {
            "text/plain": [
              "Text(0, 0.5, 'SentimentTitle')"
            ]
          },
          "metadata": {
            "tags": []
          },
          "execution_count": 28
        },
        {
          "output_type": "display_data",
          "data": {
            "image/png": "[encoded data removed]",
            "text/plain": [
              "<Figure size 432x288 with 1 Axes>"
            ]
          },
          "metadata": {
            "tags": []
          }
        }
      ]
    },
    {
      "cell_type": "code",
      "metadata": {
        "id": "aieMDuelnfsZ",
        "colab_type": "code",
        "colab": {
          "base_uri": "https://localhost:8080/",
          "height": 300
        },
        "outputId": "26d37dd7-ad3d-4d64-86f0-b3266f69fc28"
      },
      "source": [
        "# weekday distribution of SentimentHeadline\n",
        "\n",
        "plt.scatter(train['weekday'], train['SentimentHeadline'])\n",
        "plt.xlabel('weekday')\n",
        "plt.ylabel('SentimentHeadline')"
      ],
      "execution_count": 29,
      "outputs": [
        {
          "output_type": "execute_result",
          "data": {
            "text/plain": [
              "Text(0, 0.5, 'SentimentHeadline')"
            ]
          },
          "metadata": {
            "tags": []
          },
          "execution_count": 29
        },
        {
          "output_type": "display_data",
          "data": {
            "image/png": "[encoded data removed]",
            "text/plain": [
              "<Figure size 432x288 with 1 Axes>"
            ]
          },
          "metadata": {
            "tags": []
          }
        }
      ]
    },
    {
      "cell_type": "code",
      "metadata": {
        "id": "MKYQYq7LcKyb",
        "colab_type": "code",
        "colab": {}
      },
      "source": [
        "# Number of words in the Title \n",
        "train[\"num_words_t\"] = train[\"Text_Title\"].apply(lambda x: len(str(x).split()))\n",
        "test[\"num_words_t\"] = test[\"Text_Title\"].apply(lambda x: len(str(x).split()))\n",
        "\n",
        "# Number of unique words in the Title \n",
        "train[\"num_unique_words_t\"] = train[\"Text_Title\"].apply(lambda x: len(set(str(x).split())))\n",
        "test[\"num_unique_words_t\"] = test[\"Text_Title\"].apply(lambda x: len(set(str(x).split())))\n",
        "\n",
        "# Number of characters in the Title \n",
        "train[\"num_chars_t\"] = train[\"Text_Title\"].apply(lambda x: len(str(x)))\n",
        "test[\"num_chars_t\"] = test[\"Text_Title\"].apply(lambda x: len(str(x)))\n",
        "\n",
        "# Average length of the words in the Title \n",
        "train[\"mean_word_len_t\"] = train[\"Text_Title\"].apply(lambda x: np.mean([len(w) for w in str(x).split()]))\n",
        "test[\"mean_word_len_t\"] = test[\"Text_Title\"].apply(lambda x: np.mean([len(w) for w in str(x).split()]))"
      ],
      "execution_count": 0,
      "outputs": []
    },
    {
      "cell_type": "code",
      "metadata": {
        "id": "InxBp_3cg0ak",
        "colab_type": "code",
        "colab": {}
      },
      "source": [
        "# Number of words in the Headline \n",
        "train[\"num_words_h\"] = train[\"Text_Headline\"].apply(lambda x: len(str(x).split()))\n",
        "test[\"num_words_h\"] = test[\"Text_Headline\"].apply(lambda x: len(str(x).split()))\n",
        "\n",
        "# Number of unique words in the Headline \n",
        "train[\"num_unique_words_h\"] = train[\"Text_Headline\"].apply(lambda x: len(set(str(x).split())))\n",
        "test[\"num_unique_words_h\"] = test[\"Text_Headline\"].apply(lambda x: len(set(str(x).split())))\n",
        "\n",
        "# Number of characters in the Headline \n",
        "train[\"num_chars_h\"] = train[\"Text_Headline\"].apply(lambda x: len(str(x)))\n",
        "test[\"num_chars_h\"] = test[\"Text_Headline\"].apply(lambda x: len(str(x)))\n",
        "\n",
        "# Average length of the words in the Headline \n",
        "train[\"mean_word_len_h\"] = train[\"Text_Headline\"].apply(lambda x: np.mean([len(w) for w in str(x).split()]))\n",
        "test[\"mean_word_len_h\"] = test[\"Text_Headline\"].apply(lambda x: np.mean([len(w) for w in str(x).split()]))"
      ],
      "execution_count": 0,
      "outputs": []
    },
    {
      "cell_type": "code",
      "metadata": {
        "id": "avWWnnWPeGu1",
        "colab_type": "code",
        "colab": {}
      },
      "source": [
        "scaler = StandardScaler()\n",
        "\n",
        "cols = ['Source', 'Topic', 'Facebook', 'GooglePlus', 'LinkedIn', 'num_words_t', 'num_unique_words_t', 'num_chars_t', 'mean_word_len_t',\n",
        "        'num_words_h', 'num_unique_words_h', 'num_chars_h', 'mean_word_len_h', 'hour', 'weekday']\n",
        "\n",
        "for col in cols:\n",
        "  train[col] = scaler.fit_transform(train[col].values.reshape(-1, 1))\n",
        "  test[col] = scaler.transform(test[col].values.reshape(-1, 1))"
      ],
      "execution_count": 0,
      "outputs": []
    },
    {
      "cell_type": "code",
      "metadata": {
        "id": "Z3vjf58SccsC",
        "colab_type": "code",
        "colab": {}
      },
      "source": [
        "cols_t = ['Source', 'Topic', 'Facebook', 'GooglePlus', 'LinkedIn', 'num_words_t', 'num_unique_words_t', 'num_chars_t', 'mean_word_len_t', 'polarity_t', 'subjectivity_t', 'hour', 'weekday']\n",
        "train_X1 = train[cols_t]\n",
        "test_X1 = test[cols_t]\n",
        "\n",
        "cols_h = ['Source', 'Topic', 'Facebook', 'GooglePlus', 'LinkedIn', 'num_words_h', 'num_unique_words_h', 'num_chars_h', 'mean_word_len_h', 'polarity_h', 'subjectivity_h', 'hour', 'weekday']\n",
        "train_X2 = train[cols_h]\n",
        "test_X2 = test[cols_h]"
      ],
      "execution_count": 0,
      "outputs": []
    },
    {
      "cell_type": "code",
      "metadata": {
        "id": "tIl9YUoSh5qD",
        "colab_type": "code",
        "colab": {
          "base_uri": "https://localhost:8080/",
          "height": 224
        },
        "outputId": "f110cb48-6488-4c31-e4a9-261f587df7b9"
      },
      "source": [
        "train_X1.head()"
      ],
      "execution_count": 36,
      "outputs": [
        {
          "output_type": "execute_result",
          "data": {
            "text/html": [
              "<div>\n",
              "<style scoped>\n",
              "    .dataframe tbody tr th:only-of-type {\n",
              "        vertical-align: middle;\n",
              "    }\n",
              "\n",
              "    .dataframe tbody tr th {\n",
              "        vertical-align: top;\n",
              "    }\n",
              "\n",
              "    .dataframe thead th {\n",
              "        text-align: right;\n",
              "    }\n",
              "</style>\n",
              "<table border=\"1\" class=\"dataframe\">\n",
              "  <thead>\n",
              "    <tr style=\"text-align: right;\">\n",
              "      <th></th>\n",
              "      <th>Source</th>\n",
              "      <th>Topic</th>\n",
              "      <th>Facebook</th>\n",
              "      <th>GooglePlus</th>\n",
              "      <th>LinkedIn</th>\n",
              "      <th>num_words_t</th>\n",
              "      <th>num_unique_words_t</th>\n",
              "      <th>num_chars_t</th>\n",
              "      <th>mean_word_len_t</th>\n",
              "      <th>polarity_t</th>\n",
              "      <th>subjectivity_t</th>\n",
              "      <th>hour</th>\n",
              "      <th>weekday</th>\n",
              "    </tr>\n",
              "  </thead>\n",
              "  <tbody>\n",
              "    <tr>\n",
              "      <th>0</th>\n",
              "      <td>1.257700</td>\n",
              "      <td>0.841443</td>\n",
              "      <td>-0.184044</td>\n",
              "      <td>-0.262649</td>\n",
              "      <td>-0.199608</td>\n",
              "      <td>-0.25916</td>\n",
              "      <td>-0.304674</td>\n",
              "      <td>-0.572741</td>\n",
              "      <td>-0.612986</td>\n",
              "      <td>0.0</td>\n",
              "      <td>0.0</td>\n",
              "      <td>-1.699073</td>\n",
              "      <td>-0.795924</td>\n",
              "    </tr>\n",
              "    <tr>\n",
              "      <th>1</th>\n",
              "      <td>-1.314091</td>\n",
              "      <td>-1.108773</td>\n",
              "      <td>-0.184044</td>\n",
              "      <td>-0.262649</td>\n",
              "      <td>-0.199608</td>\n",
              "      <td>-1.66871</td>\n",
              "      <td>-1.721687</td>\n",
              "      <td>-1.629606</td>\n",
              "      <td>0.274360</td>\n",
              "      <td>0.0</td>\n",
              "      <td>0.0</td>\n",
              "      <td>-1.699073</td>\n",
              "      <td>1.338369</td>\n",
              "    </tr>\n",
              "    <tr>\n",
              "      <th>2</th>\n",
              "      <td>-1.314091</td>\n",
              "      <td>-1.108773</td>\n",
              "      <td>-0.184044</td>\n",
              "      <td>-0.262649</td>\n",
              "      <td>-0.199608</td>\n",
              "      <td>-1.19886</td>\n",
              "      <td>-1.249349</td>\n",
              "      <td>-1.035120</td>\n",
              "      <td>0.328687</td>\n",
              "      <td>0.0</td>\n",
              "      <td>0.0</td>\n",
              "      <td>-1.699073</td>\n",
              "      <td>1.338369</td>\n",
              "    </tr>\n",
              "    <tr>\n",
              "      <th>3</th>\n",
              "      <td>0.468412</td>\n",
              "      <td>-1.108773</td>\n",
              "      <td>-0.184044</td>\n",
              "      <td>-0.262649</td>\n",
              "      <td>-0.199608</td>\n",
              "      <td>-1.66871</td>\n",
              "      <td>-1.249349</td>\n",
              "      <td>-2.224092</td>\n",
              "      <td>-1.436950</td>\n",
              "      <td>0.0</td>\n",
              "      <td>0.0</td>\n",
              "      <td>-1.699073</td>\n",
              "      <td>1.871942</td>\n",
              "    </tr>\n",
              "    <tr>\n",
              "      <th>4</th>\n",
              "      <td>1.029071</td>\n",
              "      <td>-1.108773</td>\n",
              "      <td>-0.184044</td>\n",
              "      <td>-0.262649</td>\n",
              "      <td>-0.199608</td>\n",
              "      <td>1.15039</td>\n",
              "      <td>1.112340</td>\n",
              "      <td>1.012556</td>\n",
              "      <td>-0.296077</td>\n",
              "      <td>0.0</td>\n",
              "      <td>0.0</td>\n",
              "      <td>-1.699073</td>\n",
              "      <td>1.871942</td>\n",
              "    </tr>\n",
              "  </tbody>\n",
              "</table>\n",
              "</div>"
            ],
            "text/plain": [
              "     Source     Topic  Facebook  ...  subjectivity_t      hour   weekday\n",
              "0  1.257700  0.841443 -0.184044  ...             0.0 -1.699073 -0.795924\n",
              "1 -1.314091 -1.108773 -0.184044  ...             0.0 -1.699073  1.338369\n",
              "2 -1.314091 -1.108773 -0.184044  ...             0.0 -1.699073  1.338369\n",
              "3  0.468412 -1.108773 -0.184044  ...             0.0 -1.699073  1.871942\n",
              "4  1.029071 -1.108773 -0.184044  ...             0.0 -1.699073  1.871942\n",
              "\n",
              "[5 rows x 13 columns]"
            ]
          },
          "metadata": {
            "tags": []
          },
          "execution_count": 36
        }
      ]
    },
    {
      "cell_type": "code",
      "metadata": {
        "id": "XB3XX7-KiAWM",
        "colab_type": "code",
        "colab": {
          "base_uri": "https://localhost:8080/",
          "height": 224
        },
        "outputId": "fd2a4a4d-01ed-4a2d-bc46-10848873a597"
      },
      "source": [
        "train_X2.head()"
      ],
      "execution_count": 37,
      "outputs": [
        {
          "output_type": "execute_result",
          "data": {
            "text/html": [
              "<div>\n",
              "<style scoped>\n",
              "    .dataframe tbody tr th:only-of-type {\n",
              "        vertical-align: middle;\n",
              "    }\n",
              "\n",
              "    .dataframe tbody tr th {\n",
              "        vertical-align: top;\n",
              "    }\n",
              "\n",
              "    .dataframe thead th {\n",
              "        text-align: right;\n",
              "    }\n",
              "</style>\n",
              "<table border=\"1\" class=\"dataframe\">\n",
              "  <thead>\n",
              "    <tr style=\"text-align: right;\">\n",
              "      <th></th>\n",
              "      <th>Source</th>\n",
              "      <th>Topic</th>\n",
              "      <th>Facebook</th>\n",
              "      <th>GooglePlus</th>\n",
              "      <th>LinkedIn</th>\n",
              "      <th>num_words_h</th>\n",
              "      <th>num_unique_words_h</th>\n",
              "      <th>num_chars_h</th>\n",
              "      <th>mean_word_len_h</th>\n",
              "      <th>polarity_h</th>\n",
              "      <th>subjectivity_h</th>\n",
              "      <th>hour</th>\n",
              "      <th>weekday</th>\n",
              "    </tr>\n",
              "  </thead>\n",
              "  <tbody>\n",
              "    <tr>\n",
              "      <th>0</th>\n",
              "      <td>1.257700</td>\n",
              "      <td>0.841443</td>\n",
              "      <td>-0.184044</td>\n",
              "      <td>-0.262649</td>\n",
              "      <td>-0.199608</td>\n",
              "      <td>-0.285960</td>\n",
              "      <td>-0.526779</td>\n",
              "      <td>-0.490565</td>\n",
              "      <td>-1.058634</td>\n",
              "      <td>0.000000</td>\n",
              "      <td>0.000000</td>\n",
              "      <td>-1.699073</td>\n",
              "      <td>-0.795924</td>\n",
              "    </tr>\n",
              "    <tr>\n",
              "      <th>1</th>\n",
              "      <td>-1.314091</td>\n",
              "      <td>-1.108773</td>\n",
              "      <td>-0.184044</td>\n",
              "      <td>-0.262649</td>\n",
              "      <td>-0.199608</td>\n",
              "      <td>-0.285960</td>\n",
              "      <td>-0.232528</td>\n",
              "      <td>-0.317704</td>\n",
              "      <td>-0.175984</td>\n",
              "      <td>0.100000</td>\n",
              "      <td>0.200000</td>\n",
              "      <td>-1.699073</td>\n",
              "      <td>1.338369</td>\n",
              "    </tr>\n",
              "    <tr>\n",
              "      <th>2</th>\n",
              "      <td>-1.314091</td>\n",
              "      <td>-1.108773</td>\n",
              "      <td>-0.184044</td>\n",
              "      <td>-0.262649</td>\n",
              "      <td>-0.199608</td>\n",
              "      <td>-0.413322</td>\n",
              "      <td>-0.673904</td>\n",
              "      <td>-0.300418</td>\n",
              "      <td>0.618402</td>\n",
              "      <td>0.000000</td>\n",
              "      <td>0.041667</td>\n",
              "      <td>-1.699073</td>\n",
              "      <td>1.338369</td>\n",
              "    </tr>\n",
              "    <tr>\n",
              "      <th>3</th>\n",
              "      <td>0.468412</td>\n",
              "      <td>-1.108773</td>\n",
              "      <td>-0.184044</td>\n",
              "      <td>-0.262649</td>\n",
              "      <td>-0.199608</td>\n",
              "      <td>0.096128</td>\n",
              "      <td>0.061723</td>\n",
              "      <td>0.304596</td>\n",
              "      <td>0.843478</td>\n",
              "      <td>-0.166667</td>\n",
              "      <td>0.166667</td>\n",
              "      <td>-1.699073</td>\n",
              "      <td>1.871942</td>\n",
              "    </tr>\n",
              "    <tr>\n",
              "      <th>4</th>\n",
              "      <td>1.029071</td>\n",
              "      <td>-1.108773</td>\n",
              "      <td>-0.184044</td>\n",
              "      <td>-0.262649</td>\n",
              "      <td>-0.199608</td>\n",
              "      <td>0.223490</td>\n",
              "      <td>0.208849</td>\n",
              "      <td>0.391026</td>\n",
              "      <td>0.618402</td>\n",
              "      <td>0.133333</td>\n",
              "      <td>0.380556</td>\n",
              "      <td>-1.699073</td>\n",
              "      <td>1.871942</td>\n",
              "    </tr>\n",
              "  </tbody>\n",
              "</table>\n",
              "</div>"
            ],
            "text/plain": [
              "     Source     Topic  Facebook  ...  subjectivity_h      hour   weekday\n",
              "0  1.257700  0.841443 -0.184044  ...        0.000000 -1.699073 -0.795924\n",
              "1 -1.314091 -1.108773 -0.184044  ...        0.200000 -1.699073  1.338369\n",
              "2 -1.314091 -1.108773 -0.184044  ...        0.041667 -1.699073  1.338369\n",
              "3  0.468412 -1.108773 -0.184044  ...        0.166667 -1.699073  1.871942\n",
              "4  1.029071 -1.108773 -0.184044  ...        0.380556 -1.699073  1.871942\n",
              "\n",
              "[5 rows x 13 columns]"
            ]
          },
          "metadata": {
            "tags": []
          },
          "execution_count": 37
        }
      ]
    },
    {
      "cell_type": "code",
      "metadata": {
        "id": "QWEA4kiliKb-",
        "colab_type": "code",
        "colab": {
          "base_uri": "https://localhost:8080/",
          "height": 51
        },
        "outputId": "c32acfe5-2563-42fd-c3a1-f68fd13b3f88"
      },
      "source": [
        "print(np.shape(train_X1))\n",
        "print(np.shape(test_X1))"
      ],
      "execution_count": 38,
      "outputs": [
        {
          "output_type": "stream",
          "text": [
            "(55932, 13)\n",
            "(37288, 13)\n"
          ],
          "name": "stdout"
        }
      ]
    },
    {
      "cell_type": "code",
      "metadata": {
        "id": "PsGweej5ipnF",
        "colab_type": "code",
        "colab": {
          "base_uri": "https://localhost:8080/",
          "height": 51
        },
        "outputId": "a35bfc60-1217-499c-efcf-dad0b0491518"
      },
      "source": [
        "print(np.shape(train_X2))\n",
        "print(np.shape(test_X2))"
      ],
      "execution_count": 39,
      "outputs": [
        {
          "output_type": "stream",
          "text": [
            "(55932, 13)\n",
            "(37288, 13)\n"
          ],
          "name": "stdout"
        }
      ]
    },
    {
      "cell_type": "code",
      "metadata": {
        "id": "F8ZUxDyxiYYj",
        "colab_type": "code",
        "colab": {
          "base_uri": "https://localhost:8080/",
          "height": 51
        },
        "outputId": "41fbf270-9da6-4883-a5c8-8470ea320e65"
      },
      "source": [
        "print(np.shape(train_v_Title))\n",
        "print(np.shape(test_v_Title))"
      ],
      "execution_count": 40,
      "outputs": [
        {
          "output_type": "stream",
          "text": [
            "(55932, 25377)\n",
            "(37288, 25377)\n"
          ],
          "name": "stdout"
        }
      ]
    },
    {
      "cell_type": "code",
      "metadata": {
        "id": "Haa0q5c7ixK6",
        "colab_type": "code",
        "colab": {
          "base_uri": "https://localhost:8080/",
          "height": 51
        },
        "outputId": "44b638c8-cdb0-4141-c5ac-62124393302a"
      },
      "source": [
        "print(np.shape(train_v_Headline))\n",
        "print(np.shape(test_v_Headline))"
      ],
      "execution_count": 41,
      "outputs": [
        {
          "output_type": "stream",
          "text": [
            "(55932, 38787)\n",
            "(37288, 38787)\n"
          ],
          "name": "stdout"
        }
      ]
    },
    {
      "cell_type": "code",
      "metadata": {
        "id": "XYKCjsgAchdd",
        "colab_type": "code",
        "colab": {}
      },
      "source": [
        "train_X_Title = hstack([train_v_Title, csr_matrix(train_X1.values)])\n",
        "test_X_Title = hstack([test_v_Title, csr_matrix(test_X1.values)])\n",
        "y1 = train['SentimentTitle']\n",
        "\n",
        "train_X_Headline = hstack([train_v_Headline, csr_matrix(train_X2.values)])\n",
        "test_X_Headline = hstack([test_v_Headline, csr_matrix(test_X2.values)])\n",
        "y2 = train['SentimentHeadline']"
      ],
      "execution_count": 0,
      "outputs": []
    },
    {
      "cell_type": "code",
      "metadata": {
        "id": "VBHNhB1knWrV",
        "colab_type": "code",
        "colab": {
          "base_uri": "https://localhost:8080/",
          "height": 34
        },
        "outputId": "d0a65d44-245c-4249-c5d6-440d225231b5"
      },
      "source": [
        "np.shape(train_X_Title)"
      ],
      "execution_count": 43,
      "outputs": [
        {
          "output_type": "execute_result",
          "data": {
            "text/plain": [
              "(55932, 25390)"
            ]
          },
          "metadata": {
            "tags": []
          },
          "execution_count": 43
        }
      ]
    },
    {
      "cell_type": "markdown",
      "metadata": {
        "id": "Yy8f0hUYNmAI",
        "colab_type": "text"
      },
      "source": [
        "Apply Machine Learning Models"
      ]
    },
    {
      "cell_type": "code",
      "metadata": {
        "id": "pysOEnMtNXpa",
        "colab_type": "code",
        "colab": {
          "base_uri": "https://localhost:8080/",
          "height": 68
        },
        "outputId": "5d232209-cca6-4bf4-fb6f-4c1c5dd5bd35"
      },
      "source": [
        "# LinearSVR model for SentimentTitle\n",
        "\n",
        "X_train, X_test, y_train, y_test = train_test_split(train_X_Title, y1, test_size=0.20, random_state=42)\n",
        "\n",
        "clf1 = LinearSVR(C=0.2)\n",
        "clf1.fit(X_train, y_train)\n",
        "\n",
        "y_pred1 = clf1.predict(X_test)\n",
        "mae1 = mean_absolute_error(y_pred1, y_test)\n",
        "print('MAE:', 1 - mae1)"
      ],
      "execution_count": 49,
      "outputs": [
        {
          "output_type": "stream",
          "text": [
            "MAE: 0.9433247474955124\n"
          ],
          "name": "stdout"
        },
        {
          "output_type": "stream",
          "text": [
            "/usr/local/lib/python3.6/dist-packages/sklearn/svm/base.py:929: ConvergenceWarning: Liblinear failed to converge, increase the number of iterations.\n",
            "  \"the number of iterations.\", ConvergenceWarning)\n"
          ],
          "name": "stderr"
        }
      ]
    },
    {
      "cell_type": "code",
      "metadata": {
        "id": "kZBAbRcvN5I2",
        "colab_type": "code",
        "colab": {
          "base_uri": "https://localhost:8080/",
          "height": 68
        },
        "outputId": "719a04c2-995f-4340-a182-8134434d85fe"
      },
      "source": [
        "# LinearSVR model for SentimentHeadline\n",
        "\n",
        "X_train, X_test, y_train, y_test = train_test_split(train_X_Headline, y2, test_size=0.20, random_state=42)\n",
        "\n",
        "clf2 = LinearSVR(C=0.1)\n",
        "clf2.fit(X_train, y_train)\n",
        "\n",
        "y_pred2 = clf2.predict(X_test)\n",
        "mae2 = mean_absolute_error(y_pred2, y_test)\n",
        "print('MAE:', 1 - mae2)"
      ],
      "execution_count": 50,
      "outputs": [
        {
          "output_type": "stream",
          "text": [
            "MAE: 0.9291599162819539\n"
          ],
          "name": "stdout"
        },
        {
          "output_type": "stream",
          "text": [
            "/usr/local/lib/python3.6/dist-packages/sklearn/svm/base.py:929: ConvergenceWarning: Liblinear failed to converge, increase the number of iterations.\n",
            "  \"the number of iterations.\", ConvergenceWarning)\n"
          ],
          "name": "stderr"
        }
      ]
    },
    {
      "cell_type": "code",
      "metadata": {
        "id": "tPYzcJkndTDH",
        "colab_type": "code",
        "colab": {
          "base_uri": "https://localhost:8080/",
          "height": 34
        },
        "outputId": "228f6fae-4868-4e10-c0ec-f7c59226aad8"
      },
      "source": [
        "print('MAE:', 1 - ((0.4 * mae1) + (0.6 * mae2)))"
      ],
      "execution_count": 51,
      "outputs": [
        {
          "output_type": "stream",
          "text": [
            "MAE: 0.9348258487673773\n"
          ],
          "name": "stdout"
        }
      ]
    },
    {
      "cell_type": "markdown",
      "metadata": {
        "id": "klVR88ZMoXCL",
        "colab_type": "text"
      },
      "source": [
        "Make predictions for test dataset"
      ]
    },
    {
      "cell_type": "code",
      "metadata": {
        "id": "JbTfoZeUdb6R",
        "colab_type": "code",
        "colab": {}
      },
      "source": [
        "title = clf1.predict(test_X_Title)\n",
        "headline = clf2.predict(test_X_Headline)"
      ],
      "execution_count": 0,
      "outputs": []
    },
    {
      "cell_type": "markdown",
      "metadata": {
        "id": "hNgGFbhZoSEI",
        "colab_type": "text"
      },
      "source": [
        "Save results in csv"
      ]
    },
    {
      "cell_type": "code",
      "metadata": {
        "id": "sEgf1XLjflp8",
        "colab_type": "code",
        "colab": {}
      },
      "source": [
        "df = pd.DataFrame()\n",
        "df['IDLink'] = test_id\n",
        "df['SentimentTitle'] = title\n",
        "df['SentimentHeadline'] = headline\n",
        "df.to_csv('/content/drive/My Drive/Colab Notebooks/ZS/submit_8.csv', index=False)"
      ],
      "execution_count": 0,
      "outputs": []
    },
    {
      "cell_type": "code",
      "metadata": {
        "id": "jDnZ9rUgkc1G",
        "colab_type": "code",
        "colab": {}
      },
      "source": [
        ""
      ],
      "execution_count": 0,
      "outputs": []
    }
  ]
}
